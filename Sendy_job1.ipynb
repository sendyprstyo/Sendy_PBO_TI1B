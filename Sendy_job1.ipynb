{
  "nbformat": 4,
  "nbformat_minor": 0,
  "metadata": {
    "colab": {
      "provenance": [],
      "toc_visible": true,
      "authorship_tag": "ABX9TyNzluiHaXbs8jToQRwYv8V0",
      "include_colab_link": true
    },
    "kernelspec": {
      "name": "python3",
      "display_name": "Python 3"
    },
    "language_info": {
      "name": "python"
    }
  },
  "cells": [
    {
      "cell_type": "markdown",
      "metadata": {
        "id": "view-in-github",
        "colab_type": "text"
      },
      "source": [
        "<a href=\"https://colab.research.google.com/github/sendyprstyo/Sendy_PBO_TI1B/blob/main/Sendy_job1.ipynb\" target=\"_parent\"><img src=\"https://colab.research.google.com/assets/colab-badge.svg\" alt=\"Open In Colab\"/></a>"
      ]
    },
    {
      "cell_type": "markdown",
      "source": [
        "# Jobsheet 01: Dasar Pemograman Bahasa Python"
      ],
      "metadata": {
        "id": "Uwaj19Teq0cP"
      }
    },
    {
      "cell_type": "markdown",
      "source": [],
      "metadata": {
        "id": "VOiHjZQUsQ5Z"
      }
    },
    {
      "cell_type": "markdown",
      "source": [
        "# Praktikum 01\n",
        "\n"
      ],
      "metadata": {
        "id": "ot_s8-Yrq6CF"
      }
    },
    {
      "cell_type": "code",
      "source": [],
      "metadata": {
        "id": "BwW5uI0xsHXO"
      },
      "execution_count": null,
      "outputs": []
    }
  ]
}