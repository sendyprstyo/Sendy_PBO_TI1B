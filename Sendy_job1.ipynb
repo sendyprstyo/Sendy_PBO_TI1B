{
  "nbformat": 4,
  "nbformat_minor": 0,
  "metadata": {
    "colab": {
      "provenance": [],
      "authorship_tag": "ABX9TyNzQFfkgZ9Rge1cmXJ+QtMA",
      "include_colab_link": true
    },
    "kernelspec": {
      "name": "python3",
      "display_name": "Python 3"
    },
    "language_info": {
      "name": "python"
    }
  },
  "cells": [
    {
      "cell_type": "markdown",
      "metadata": {
        "id": "view-in-github",
        "colab_type": "text"
      },
      "source": [
        "<a href=\"https://colab.research.google.com/github/sendyprstyo/Sendy_PBO_TI1B/blob/main/Sendy_job1.ipynb\" target=\"_parent\"><img src=\"https://colab.research.google.com/assets/colab-badge.svg\" alt=\"Open In Colab\"/></a>"
      ]
    },
    {
      "cell_type": "markdown",
      "source": [
        "# Jobsheet 01: Dasar Pemograman Bahasa Python"
      ],
      "metadata": {
        "id": "Uwaj19Teq0cP"
      }
    },
    {
      "cell_type": "markdown",
      "source": [],
      "metadata": {
        "id": "VOiHjZQUsQ5Z"
      }
    },
    {
      "cell_type": "markdown",
      "source": [
        "## Praktikum 01. Tipe data dasar"
      ],
      "metadata": {
        "id": "9S6s-uZD_z5u"
      }
    },
    {
      "cell_type": "code",
      "source": [
        "# Integer (int)\n",
        "angka_int = 10\n",
        "print(\"angka_int =\", angka_int, \"->\", type(angka_int))\n",
        "\n",
        "# Float\n",
        "angka_float = 3.14\n",
        "print(\"angka_float =\", angka_float, \"->\", type(angka_float))\n",
        "\n",
        "# Complex\n",
        "angka_complex = 2 + 3j\n",
        "print(\"angka_complex =\", angka_complex, \"->\", type(angka_complex))\n",
        "\n",
        "# Boolean\n",
        "is_active = True\n",
        "print(\"is_active =\", is_active, \"->\", type(is_active))\n",
        "\n",
        "# String\n",
        "teks = \"Hello, Python!\"\n",
        "print(\"teks =\", teks, \"->\", type(teks))\n",
        "\n",
        "# List\n",
        "daftar_angka = [1, 2, 3, 4, 5]\n",
        "print(\"daftar_angka =\", daftar_angka, \"->\", type(daftar_angka))\n",
        "\n",
        "# Tuple\n",
        "koordinat = (10, 20)\n",
        "print(\"koordinat =\", koordinat, \"->\", type(koordinat))\n",
        "\n",
        "# Dictionary\n",
        "data_mahasiswa = {\"nama\": \"Andi\", \"nim\": \"A11.2022.12345\", \"jurusan\": \"Teknik Informatika\"}\n",
        "print(\"data_mahasiswa =\", data_mahasiswa, \"->\", type(data_mahasiswa))\n",
        "\n",
        "# Set\n",
        "himpunan_angka = {1, 2, 3, 2, 1}\n",
        "print(\"himpunan_angka =\", himpunan_angka, \"->\", type(himpunan_angka))\n",
        "\n",
        "# Konversi Tipe Data\n",
        "nilai_str = \"100\"\n",
        "print(\"\\nnilai_str =\", nilai_str, \"->\", type(nilai_str))\n",
        "nilai_int = int(nilai_str)  # konversi string ke integer\n",
        "print(\"nilai_int =\", nilai_int, \"->\", type(nilai_int))\n"
      ],
      "metadata": {
        "id": "2nUVmuAy_8H8",
        "outputId": "7600882c-1533-46ed-d2a3-e85785514003",
        "colab": {
          "base_uri": "https://localhost:8080/"
        }
      },
      "execution_count": 29,
      "outputs": [
        {
          "output_type": "stream",
          "name": "stdout",
          "text": [
            "angka_int = 10 -> <class 'int'>\n",
            "angka_float = 3.14 -> <class 'float'>\n",
            "angka_complex = (2+3j) -> <class 'complex'>\n",
            "is_active = True -> <class 'bool'>\n",
            "teks = Hello, Python! -> <class 'str'>\n",
            "daftar_angka = [1, 2, 3, 4, 5] -> <class 'list'>\n",
            "koordinat = (10, 20) -> <class 'tuple'>\n",
            "data_mahasiswa = {'nama': 'Andi', 'nim': 'A11.2022.12345', 'jurusan': 'Teknik Informatika'} -> <class 'dict'>\n",
            "himpunan_angka = {1, 2, 3} -> <class 'set'>\n",
            "\n",
            "nilai_str = 100 -> <class 'str'>\n",
            "nilai_int = 100 -> <class 'int'>\n"
          ]
        }
      ]
    }
  ]
}