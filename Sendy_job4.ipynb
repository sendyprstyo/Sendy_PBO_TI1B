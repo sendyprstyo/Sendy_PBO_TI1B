{
  "nbformat": 4,
  "nbformat_minor": 0,
  "metadata": {
    "colab": {
      "provenance": [],
      "authorship_tag": "ABX9TyPaBXcEmsqPf9Y6ODjNGPSF",
      "include_colab_link": true
    },
    "kernelspec": {
      "name": "python3",
      "display_name": "Python 3"
    },
    "language_info": {
      "name": "python"
    }
  },
  "cells": [
    {
      "cell_type": "markdown",
      "metadata": {
        "id": "view-in-github",
        "colab_type": "text"
      },
      "source": [
        "<a href=\"https://colab.research.google.com/github/sendyprstyo/Sendy_PBO_TI1B/blob/main/Sendy_job4.ipynb\" target=\"_parent\"><img src=\"https://colab.research.google.com/assets/colab-badge.svg\" alt=\"Open In Colab\"/></a>"
      ]
    },
    {
      "cell_type": "markdown",
      "source": [
        "# JOBSHEET 04 MEMAHAMI PEWARISAN (INHERITANCE) DALAM  PYTHON\n"
      ],
      "metadata": {
        "id": "yyRZaCO6K23g"
      }
    },
    {
      "cell_type": "markdown",
      "source": [
        "## Praktikum 01: Inheritance Dasar"
      ],
      "metadata": {
        "id": "gz524cuJLJgJ"
      }
    },
    {
      "cell_type": "code",
      "source": [
        "class Kendaraan:\n",
        "  def __init__(self, merk):\n",
        "    self.merk = merk\n",
        "\n",
        "  def mulai_mesin(self):\n",
        "    print(f\"Mesin kendaraan {self.merk} dinyalakan.\")\n",
        "\n",
        "class Mobil(Kendaraan):\n",
        "  def __init__(self, merk, warna):\n",
        "    super().__init__(merk)\n",
        "    self.warna = warna\n",
        "\n",
        "  def info_mobil(self):\n",
        "    print(f\"Ini adalah mobil {self.merk} berwarna {self.warna}.\")\n",
        "\n",
        "if __name__ == \"__main__\":\n",
        "  mobil_tesla = Mobil(\"Tesla Model S\", \"Merah\")\n",
        "  mobil_tesla.info_mobil()\n",
        "  mobil_tesla.mulai_mesin()\n",
        "  print(f\"Merk mobil: {mobil_tesla.merk}\")"
      ],
      "metadata": {
        "id": "k4UvLAuGMv2u",
        "colab": {
          "base_uri": "https://localhost:8080/"
        },
        "outputId": "988818a7-4a2e-4bb4-dcfe-e65383b2b2f6"
      },
      "execution_count": 4,
      "outputs": [
        {
          "output_type": "stream",
          "name": "stdout",
          "text": [
            "Ini adalah mobil Tesla Model S berwarna Merah.\n",
            "Mesin kendaraan Tesla Model S dinyalakan.\n",
            "Merk mobil: Tesla Model S\n"
          ]
        }
      ]
    },
    {
      "cell_type": "markdown",
      "source": [
        "## Praktikum 02: Menggunakan super() dalam konstruktor\n"
      ],
      "metadata": {
        "id": "SlZNg8VzeZQs"
      }
    },
    {
      "cell_type": "code",
      "source": [
        "class Person:\n",
        "  def __init__(self, nama, usia):\n",
        "    print(f\"Init Person: '{nama}'\")\n",
        "    self.nama = nama\n",
        "    self.usia = usia\n",
        "\n",
        "  def perkenalkan_diri(self):\n",
        "    print(f\"Halo, saya {self.nama}, usia {self.usia} tahun.\")\n",
        "\n",
        "class Student(Person):\n",
        "  def __init__(self, nama, usia, student_id, jurusan):\n",
        "    print(f\"Init Student: '{nama}'\")\n",
        "    super().__init__(nama, usia)\n",
        "    self.student_id = student_id\n",
        "    self.jurusan = jurusan\n",
        "\n",
        "  def info_akademik(self):\n",
        "    print(f\"ID: {self.student_id}, Jurusan: {self.jurusan}\")\n",
        "\n",
        "  def perkenalkan_diri(self):\n",
        "    super().perkenalkan_diri()\n",
        "    print(f\"Mahasiswa ID {self.student_id}, jurusan {self.jurusan}.\")\n",
        "\n",
        "if __name__ == \"__main__\":\n",
        "  dosen = Person(\"Pak Anton\", 45)\n",
        "  print(\"-\" * 20)\n",
        "  dosen.perkenalkan_diri()\n",
        "\n",
        "  print(\"\\n\" + \"=\" * 30 + \"\\n\")\n",
        "\n",
        "  mahasiswa = Student(\"SENDI\", 18, \"MHS001\", \"TRK\")\n",
        "  print(\"-\" * 20)\n",
        "  mahasiswa.perkenalkan_diri()\n",
        "  print(\"-\" * 20)\n",
        "  mahasiswa.info_akademik()\n",
        "\n",
        "  print(f\"\\nUsia mahasiswa {mahasiswa.nama}: {mahasiswa.usia}\")"
      ],
      "metadata": {
        "colab": {
          "base_uri": "https://localhost:8080/"
        },
        "id": "8cFrAW8aeeBj",
        "outputId": "04dac6db-eeb2-4f1a-ccdb-14d14a61e278"
      },
      "execution_count": 8,
      "outputs": [
        {
          "output_type": "stream",
          "name": "stdout",
          "text": [
            "Init Person: 'Pak Anton'\n",
            "--------------------\n",
            "Halo, saya Pak Anton, usia 45 tahun.\n",
            "\n",
            "==============================\n",
            "\n",
            "Init Student: 'SENDI'\n",
            "Init Person: 'SENDI'\n",
            "--------------------\n",
            "Halo, saya SENDI, usia 18 tahun.\n",
            "Mahasiswa ID MHS001, jurusan TRK.\n",
            "--------------------\n",
            "ID: MHS001, Jurusan: TRK\n",
            "\n",
            "Usia mahasiswa SENDI: 18\n"
          ]
        }
      ]
    }
  ]
}